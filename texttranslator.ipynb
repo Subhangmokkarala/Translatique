{
 "cells": [
  {
   "cell_type": "code",
   "execution_count": 2,
   "metadata": {},
   "outputs": [
    {
     "name": "stderr",
     "output_type": "stream",
     "text": [
      "No model was supplied, defaulted to google-t5/t5-base and revision 686f1db (https://huggingface.co/google-t5/t5-base).\n",
      "Using a pipeline without specifying a model name and revision in production is not recommended.\n"
     ]
    },
    {
     "data": {
      "text/plain": [
       "[{'translation_text': ' quel âge êtes-vous?'}]"
      ]
     },
     "execution_count": 2,
     "metadata": {},
     "output_type": "execute_result"
    }
   ],
   "source": [
    "from transformers import pipeline\n",
    "translator = pipeline(\"translation_en_to_fr\")\n",
    "translator(\"How old are you?\")\n"
   ]
  },
  {
   "cell_type": "code",
   "execution_count": 4,
   "metadata": {},
   "outputs": [
    {
     "data": {
      "text/plain": [
       "'Je suis âgé de 20 ans.'"
      ]
     },
     "execution_count": 4,
     "metadata": {},
     "output_type": "execute_result"
    }
   ],
   "source": [
    "translator(\"I am 20 years old.\")[0]['translation_text']"
   ]
  },
  {
   "cell_type": "code",
   "execution_count": 11,
   "metadata": {},
   "outputs": [
    {
     "name": "stdout",
     "output_type": "stream",
     "text": [
      "In this lesson, we're going to\n",
      "be talking about finance. And\n",
      "Dans cette leçon, nous allons parler des finances.\n",
      "one of the most important aspects\n",
      "of finance is interest.\n",
      "l'intérêt est l'un des aspects les plus importants du financement.\n",
      "When I go to a bank or some\n",
      "other lending institution\n",
      "Lorsque je me rends à une banque ou à une autre institution de prêt\n",
      "to borrow money, the bank is happy\n",
      "to give me that money. But then I'm\n",
      "pour emprunter de l'argent, la banque est heureuse de me donner cet argent.\n",
      "going to be paying the bank for the\n",
      "privilege of using their money. And that\n",
      "        \n",
      "amount of money that I pay the bank is\n",
      "called interest. Likewise, if I put money\n",
      "le montant d’argent que je verse à la banque est appelé intérêt.\n",
      "in a savings account or I purchase a\n",
      "certificate of deposit, the bank just\n",
      "dans un compte d’épargne ou j’achète un certificat de dépôt, la banque ne fait que\n",
      "doesn't put my money in a little box\n",
      "and leave it there until later. They take\n",
      "ne met pas mon argent dans une petite boîte et ne la laisse pas là jusqu'à plus tard.\n",
      "my money and lend it to someone\n",
      "else. So they are using my money.\n",
      "mon argent et le prêter à quelqu'un d'autre, ils utilisent donc mon argent.\n",
      "The bank has to pay me for the privilege\n",
      "of using my money.\n",
      "La banque doit me payer pour le privilège d'utiliser mon argent.\n",
      "Now what makes banks\n",
      "profitable is the rate\n",
      "Maintenant, ce qui rend les banques rentables, c’est le taux\n",
      "that they charge people to use the bank's\n",
      "money is higher than the rate that they\n",
      "             \n",
      "pay people like me to use my money. The\n",
      "amount of interest that a person pays or\n",
      "          \n",
      "earns is dependent on three things. It's\n",
      "dependent on how much money is involved.\n",
      "Le revenu est tributaire de trois facteurs : il dépend de la quantité d'argent en jeu.\n",
      "It's dependent upon the rate of interest\n",
      "being paid or the rate of interest being\n",
      "Il dépend du taux d'intérêt payé ou du taux d'intérêt payé.\n",
      "charged. And it's also dependent upon\n",
      "how much time is involved. If I have\n",
      "Il n'y a pas d'autres raisons de ne pas avoir accès à l'information et il n'y a pas d'autres raisons de ne pas avoir accès à cette information.\n",
      "a loan and I want to decrease the amount\n",
      "of interest that I'm going to pay, then\n",
      "un prêt et je veux réduire le montant des intérêts que je vais payer, alors\n",
      "I'm either going to have to decrease how\n",
      "much money I borrow, I'm going to have\n",
      "Je dois soit diminuer le montant de l'argent que j'emprunte, soit réduire le montant de l'argent que j'emprunte.\n",
      "to borrow the money over a shorter period\n",
      "of time, or I'm going to have to find a\n",
      "d'emprunter l'argent sur une période plus courte, ou je vais devoir trouver un\n",
      "lending institution that charges a lower\n",
      "interest rate. On the other hand, if I\n",
      "         \n",
      "want to earn more interest on my\n",
      "investment, I'm going to have to invest\n",
      "je veux gagner plus d'intérêt sur mon investissement, je vais devoir investir\n",
      "more money, leave the money in the\n",
      "account for a longer period of time, or\n",
      "plus d’argent, laisser l’argent dans le compte pour une période plus longue, ou\n",
      "find an institution that will pay\n",
      "me a higher interest rate.\n",
      "Trouver une institution qui me versera un taux d'intérêt plus élevé.\n"
     ]
    }
   ],
   "source": [
    "import pysrt\n",
    "\n",
    "subs = pysrt.open('subs.srt')\n",
    "for i in subs:\n",
    "    print(i.text)\n",
    "    print(translator(i.text)[0]['translation_text'])\n",
    "    i.text = translator(i.text)[0]['translation_text']\n",
    "\n",
    "\n",
    "#translator(subs[0].text)[0]['translation_text']\n",
    "subs.save('subs_fr.srt')"
   ]
  }
 ],
 "metadata": {
  "kernelspec": {
   "display_name": "Python 3",
   "language": "python",
   "name": "python3"
  },
  "language_info": {
   "codemirror_mode": {
    "name": "ipython",
    "version": 3
   },
   "file_extension": ".py",
   "mimetype": "text/x-python",
   "name": "python",
   "nbconvert_exporter": "python",
   "pygments_lexer": "ipython3",
   "version": "3.11.6"
  }
 },
 "nbformat": 4,
 "nbformat_minor": 2
}
